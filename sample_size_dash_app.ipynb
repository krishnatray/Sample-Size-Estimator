{
 "cells": [
  {
   "cell_type": "code",
   "execution_count": 1,
   "metadata": {
    "ExecuteTime": {
     "end_time": "2018-06-06T05:27:12.567351Z",
     "start_time": "2018-06-06T05:27:11.730792Z"
    }
   },
   "outputs": [],
   "source": [
    "import dash\n",
    "from dash.dependencies import Input, Output\n",
    "import dash_html_components as html\n",
    "import dash_core_components as dcc\n",
    "import pandas as pd\n",
    "import flask\n",
    "from flask_cors import CORS\n",
    "import os\n",
    "import sys\n",
    "sys.path.append('../sample-size-calculator/code/')"
   ]
  },
  {
   "cell_type": "code",
   "execution_count": 2,
   "metadata": {
    "ExecuteTime": {
     "end_time": "2018-06-06T05:27:12.786903Z",
     "start_time": "2018-06-06T05:27:12.570261Z"
    }
   },
   "outputs": [],
   "source": [
    "from wrapper import *"
   ]
  },
  {
   "cell_type": "code",
   "execution_count": 3,
   "metadata": {
    "ExecuteTime": {
     "end_time": "2018-06-06T05:27:12.795286Z",
     "start_time": "2018-06-06T05:27:12.788830Z"
    }
   },
   "outputs": [],
   "source": [
    "app = dash.Dash('Sample_size_calculator')\n",
    "server = app.server"
   ]
  },
  {
   "cell_type": "code",
   "execution_count": 4,
   "metadata": {
    "ExecuteTime": {
     "end_time": "2018-06-06T05:27:12.926919Z",
     "start_time": "2018-06-06T05:27:12.797029Z"
    }
   },
   "outputs": [],
   "source": [
    "app.layout = html.Div([\n",
    "    html.H2('Sample Size Calculator',style ={'textAlign':'center'}),\n",
    "\n",
    "    # Row 2: Hover Panel and Graph\n",
    "    html.Div([\n",
    "        html.Div([\n",
    "            \n",
    "            html.Br(),\n",
    "            \n",
    "            html.Div(html.B('Type of Test'),style=dict( maxHeight='200px', fontSize='15px' )),\n",
    "            dcc.RadioItems(\n",
    "                id = 'test_type',\n",
    "                options=[\n",
    "                    {'label': 'Comparison of Means', 'value': 'mean'},\n",
    "                    {'label': 'Comparison of Proportions', 'value': 'prop'}],\n",
    "                value='mean'),\n",
    "\n",
    "            html.Br(),\n",
    "            \n",
    "            html.Div(html.B('One tailed or Two tailed'),style=dict( maxHeight='200px', fontSize='15px' )),\n",
    "            dcc.RadioItems(\n",
    "                id = 'tail_select',\n",
    "                options=[\n",
    "                    {'label': 'One tailed', 'value': 'one'},\n",
    "                    {'label': 'Two tailed', 'value': 'two'}],\n",
    "                value='two'),\n",
    "\n",
    "            html.Br(),\n",
    "            html.Div(html.B('Significance Level (α)'),style=dict( maxHeight='200px', fontSize='15px' )),\n",
    "            dcc.RangeSlider(\n",
    "                id='significance',\n",
    "                min=0,\n",
    "                max=0.1,\n",
    "                marks={ i:i for i in np.arange(0,0.2,0.01)},\n",
    "                step=0.01,\n",
    "                value=[0.05, 0.1]),\n",
    "\n",
    "            html.Br(),\n",
    "            html.Div(html.B('Power (1-β)'),style=dict( maxHeight='200px', fontSize='15px' )),\n",
    "            dcc.RangeSlider(\n",
    "                id='power',\n",
    "                min=0.75,\n",
    "                max=1,\n",
    "                marks={ i:i for i in np.arange(0.75,1,0.05)},\n",
    "                step=0.05,\n",
    "                value=[0.8, 0.8]),\n",
    "            html.Br(),\n",
    "            \n",
    "            html.B(html.Div(id = 'nme_slider',\n",
    "                     children ='Effect Size (δ)',\n",
    "                     style=dict( maxHeight='200px', fontSize='15px' ))),\n",
    "            dcc.RangeSlider(\n",
    "                id='effect_size',\n",
    "                min=0,\n",
    "                max=3,\n",
    "                marks={ i:i for i in np.arange(0,3,0.3)},                \n",
    "                step=0.3,\n",
    "                value=[0.5, 0.5]),\n",
    "                        html.Br(),\n",
    "            \n",
    "            html.B(html.Div(id = 'k_slider',\n",
    "                     children ='k (n1/n2)',\n",
    "                     style=dict( maxHeight='200px', fontSize='15px' ))),\n",
    "            dcc.Slider(\n",
    "                id='k',\n",
    "                min=0.1,\n",
    "                max=2,\n",
    "                step=0.1,\n",
    "                value=1),\n",
    "        ], className='three columns', style=dict(height='300px')),\n",
    "            \n",
    "\n",
    "\n",
    "        html.Div([\n",
    "            dcc.Graph(id='clickable-graph',\n",
    "                      style=dict(width='700px',height='550px'),\n",
    "                      hoverData=dict(points=[dict(pointNumber=0)] )),\n",
    "\n",
    "        ], className='nine columns', style=dict(textAlign='center')),\n",
    "    ], className='row' ),\n",
    "\n",
    " ], className='container')\n",
    "\n",
    "@app.callback(\n",
    "    Output('clickable-graph', 'figure'),\n",
    "    [Input('test_type', 'value'), \n",
    "     Input('tail_select', 'value'),\n",
    "     Input('significance', 'value'),\n",
    "     Input('power', 'value'),\n",
    "     Input('effect_size', 'value'),\n",
    "     Input('k', 'value')\n",
    "    ])\n",
    "def wrap_function_call(tt,tail,alpha,power,effect,k):\n",
    "    return wrap_calculations(tt,tail,alpha,power,effect,k)\n",
    "\n",
    "\n",
    "@app.callback(\n",
    "    Output('nme_slider', 'children'),\n",
    "    [Input('test_type', 'value')])\n",
    "def title_change(value):\n",
    "    return 'Effect Size (δ)' if value == 'mean' else 'Left slider is π1 and Right slider is π2'\n"
   ]
  },
  {
   "cell_type": "code",
   "execution_count": 5,
   "metadata": {
    "ExecuteTime": {
     "end_time": "2018-06-06T05:28:33.527463Z",
     "start_time": "2018-06-06T05:27:12.928630Z"
    }
   },
   "outputs": [
    {
     "name": "stderr",
     "output_type": "stream",
     "text": [
      " * Running on http://127.0.0.1:8052/ (Press CTRL+C to quit)\n",
      "127.0.0.1 - - [05/Jun/2018 22:27:14] \"\u001b[37mGET / HTTP/1.1\u001b[0m\" 200 -\n",
      "127.0.0.1 - - [05/Jun/2018 22:27:15] \"\u001b[37mGET /_dash-layout HTTP/1.1\u001b[0m\" 200 -\n",
      "127.0.0.1 - - [05/Jun/2018 22:27:15] \"\u001b[37mGET /_dash-dependencies HTTP/1.1\u001b[0m\" 200 -\n",
      "127.0.0.1 - - [05/Jun/2018 22:27:15] \"\u001b[37mPOST /_dash-update-component HTTP/1.1\u001b[0m\" 200 -\n",
      "127.0.0.1 - - [05/Jun/2018 22:27:15] \"\u001b[37mPOST /_dash-update-component HTTP/1.1\u001b[0m\" 200 -\n",
      "127.0.0.1 - - [05/Jun/2018 22:27:15] \"\u001b[37mGET /favicon.ico HTTP/1.1\u001b[0m\" 200 -\n",
      "127.0.0.1 - - [05/Jun/2018 22:27:23] \"\u001b[37mPOST /_dash-update-component HTTP/1.1\u001b[0m\" 200 -\n",
      "[2018-06-05 22:27:23,597] ERROR in app: Exception on /_dash-update-component [POST]\n",
      "Traceback (most recent call last):\n",
      "  File \"/Users/santhoshhari/anaconda/envs/py36/lib/python3.6/site-packages/flask/app.py\", line 1982, in wsgi_app\n",
      "    response = self.full_dispatch_request()\n",
      "  File \"/Users/santhoshhari/anaconda/envs/py36/lib/python3.6/site-packages/flask/app.py\", line 1614, in full_dispatch_request\n",
      "    rv = self.handle_user_exception(e)\n",
      "  File \"/Users/santhoshhari/anaconda/envs/py36/lib/python3.6/site-packages/flask/app.py\", line 1517, in handle_user_exception\n",
      "    reraise(exc_type, exc_value, tb)\n",
      "  File \"/Users/santhoshhari/anaconda/envs/py36/lib/python3.6/site-packages/flask/_compat.py\", line 33, in reraise\n",
      "    raise value\n",
      "  File \"/Users/santhoshhari/anaconda/envs/py36/lib/python3.6/site-packages/flask/app.py\", line 1612, in full_dispatch_request\n",
      "    rv = self.dispatch_request()\n",
      "  File \"/Users/santhoshhari/anaconda/envs/py36/lib/python3.6/site-packages/flask/app.py\", line 1598, in dispatch_request\n",
      "    return self.view_functions[rule.endpoint](**req.view_args)\n",
      "  File \"/Users/santhoshhari/anaconda/envs/py36/lib/python3.6/site-packages/dash/dash.py\", line 558, in dispatch\n",
      "    return self.callback_map[target_id]['callback'](*args)\n",
      "  File \"/Users/santhoshhari/anaconda/envs/py36/lib/python3.6/site-packages/dash/dash.py\", line 515, in add_context\n",
      "    output_value = func(*args, **kwargs)\n",
      "  File \"<ipython-input-4-66bc502c235f>\", line 94, in wrap_function_call\n",
      "    return wrap_calculations(tt,tail,alpha,power,effect,k)\n",
      "  File \"../sample-size-calculator/code/wrapper.py\", line 91, in wrap_calculations\n",
      "    raise Exception(\"Choose different values of proportions\")\n",
      "Exception: Choose different values of proportions\n",
      "127.0.0.1 - - [05/Jun/2018 22:27:23] \"\u001b[1m\u001b[35mPOST /_dash-update-component HTTP/1.1\u001b[0m\" 500 -\n",
      "127.0.0.1 - - [05/Jun/2018 22:27:26] \"\u001b[37mPOST /_dash-update-component HTTP/1.1\u001b[0m\" 200 -\n",
      "127.0.0.1 - - [05/Jun/2018 22:27:31] \"\u001b[37mPOST /_dash-update-component HTTP/1.1\u001b[0m\" 200 -\n",
      "127.0.0.1 - - [05/Jun/2018 22:27:35] \"\u001b[37mPOST /_dash-update-component HTTP/1.1\u001b[0m\" 200 -\n",
      "127.0.0.1 - - [05/Jun/2018 22:27:37] \"\u001b[37mPOST /_dash-update-component HTTP/1.1\u001b[0m\" 200 -\n"
     ]
    }
   ],
   "source": [
    "external_css = [\"https://cdnjs.cloudflare.com/ajax/libs/skeleton/2.0.4/skeleton.min.css\",\n",
    "                \"//fonts.googleapis.com/css?family=Raleway:400,300,600\",\n",
    "                \"//fonts.googleapis.com/css?family=Dosis:Medium\",\n",
    "                \"https://cdn.rawgit.com/plotly/dash-app-stylesheets/0e463810ed36927caf20372b6411690692f94819/dash-drug-discovery-demo-stylesheet.css\"]\n",
    "\n",
    "\n",
    "for css in external_css:\n",
    "    app.css.append_css({\"external_url\": css})\n",
    "\n",
    "\n",
    "if __name__ == '__main__':\n",
    "    app.run_server(port=8052)\n"
   ]
  },
  {
   "cell_type": "code",
   "execution_count": null,
   "metadata": {},
   "outputs": [],
   "source": []
  },
  {
   "cell_type": "code",
   "execution_count": null,
   "metadata": {},
   "outputs": [],
   "source": []
  }
 ],
 "metadata": {
  "kernelspec": {
   "display_name": "Python [default]",
   "language": "python",
   "name": "python3"
  },
  "language_info": {
   "codemirror_mode": {
    "name": "ipython",
    "version": 3
   },
   "file_extension": ".py",
   "mimetype": "text/x-python",
   "name": "python",
   "nbconvert_exporter": "python",
   "pygments_lexer": "ipython3",
   "version": "3.6.4"
  },
  "latex_envs": {
   "LaTeX_envs_menu_present": true,
   "autocomplete": true,
   "bibliofile": "biblio.bib",
   "cite_by": "apalike",
   "current_citInitial": 1,
   "eqLabelWithNumbers": true,
   "eqNumInitial": 1,
   "hotkeys": {
    "equation": "Ctrl-E",
    "itemize": "Ctrl-I"
   },
   "labels_anchors": false,
   "latex_user_defs": false,
   "report_style_numbering": false,
   "user_envs_cfg": false
  },
  "varInspector": {
   "cols": {
    "lenName": 16,
    "lenType": 16,
    "lenVar": 40
   },
   "kernels_config": {
    "python": {
     "delete_cmd_postfix": "",
     "delete_cmd_prefix": "del ",
     "library": "var_list.py",
     "varRefreshCmd": "print(var_dic_list())"
    },
    "r": {
     "delete_cmd_postfix": ") ",
     "delete_cmd_prefix": "rm(",
     "library": "var_list.r",
     "varRefreshCmd": "cat(var_dic_list()) "
    }
   },
   "types_to_exclude": [
    "module",
    "function",
    "builtin_function_or_method",
    "instance",
    "_Feature"
   ],
   "window_display": false
  }
 },
 "nbformat": 4,
 "nbformat_minor": 2
}
