{
 "cells": [
  {
   "cell_type": "code",
   "execution_count": 1,
   "metadata": {},
   "outputs": [],
   "source": [
    "import dash\n",
    "from dash.dependencies import Input, Output\n",
    "import dash_html_components as html\n",
    "import dash_core_components as dcc\n",
    "import pandas as pd\n",
    "import flask\n",
    "from flask_cors import CORS\n",
    "import os\n",
    "import pickle\n",
    "from sklearn.metrics.pairwise import pairwise_distances\n",
    "from scipy.stats import entropy\n",
    "import networkx as nx\n",
    "import sys\n",
    "sys.path.append('/Users/soorajsubrahmannian/Desktop/DOE/sample-size-calculator/')"
   ]
  },
  {
   "cell_type": "code",
   "execution_count": 2,
   "metadata": {},
   "outputs": [],
   "source": [
    "from wrapper import *"
   ]
  },
  {
   "cell_type": "code",
   "execution_count": 3,
   "metadata": {},
   "outputs": [],
   "source": [
    "app = dash.Dash('Sample_size_calculator')\n",
    "server = app.server"
   ]
  },
  {
   "cell_type": "code",
   "execution_count": 4,
   "metadata": {},
   "outputs": [],
   "source": [
    "app.layout = html.Div([\n",
    "    html.H2('Sample Size Calculator',style ={'textAlign':'center'}),\n",
    "\n",
    "    # Row 2: Hover Panel and Graph\n",
    "    html.Div([\n",
    "        html.Div([\n",
    "            \n",
    "            html.Br(),\n",
    "            \n",
    "            html.Div(html.B('Type of Test'),style=dict( maxHeight='200px', fontSize='15px' )),\n",
    "            dcc.RadioItems(\n",
    "                id = 'test_type',\n",
    "                options=[\n",
    "                    {'label': 'Comparison of Means', 'value': 'mean'},\n",
    "                    {'label': 'Comparison of Proportions', 'value': 'prop'}],\n",
    "                value='mean'),\n",
    "\n",
    "            html.Br(),\n",
    "            \n",
    "            html.Div(html.B('One tailed or Two tailed'),style=dict( maxHeight='200px', fontSize='15px' )),\n",
    "            dcc.RadioItems(\n",
    "                id = 'tail_select',\n",
    "                options=[\n",
    "                    {'label': 'One tailed', 'value': 'one'},\n",
    "                    {'label': 'Two tailed', 'value': 'two'}],\n",
    "                value='One'),\n",
    "\n",
    "            html.Br(),\n",
    "            html.Div(html.B('Significance Level (α)'),style=dict( maxHeight='200px', fontSize='15px' )),\n",
    "            dcc.RangeSlider(\n",
    "                id='significance',\n",
    "                min=0,\n",
    "                max=0.1,\n",
    "                marks={ i:i for i in np.arange(0,0.2,0.01)},\n",
    "                step=0.01,\n",
    "                value=[0.05, 0.1]),\n",
    "\n",
    "            html.Br(),\n",
    "            html.Div(html.B('Power (1-β)'),style=dict( maxHeight='200px', fontSize='15px' )),\n",
    "            dcc.RangeSlider(\n",
    "                id='power',\n",
    "                min=0.75,\n",
    "                max=1,\n",
    "                marks={ i:i for i in np.arange(0.75,1,0.05)},\n",
    "                step=0.05,\n",
    "                value=[0.8, 0.8]),\n",
    "            html.Br(),\n",
    "            \n",
    "            html.B(html.Div(id = 'nme_slider',\n",
    "                     children ='Effect Size (δ)',\n",
    "                     style=dict( maxHeight='200px', fontSize='15px' ))),\n",
    "            dcc.RangeSlider(\n",
    "                id='effect_size',\n",
    "                min=0,\n",
    "                max=3,\n",
    "                marks={ i:i for i in np.arange(0,3,0.3)},                \n",
    "                step=0.3,\n",
    "                value=[0.5, 0.5]),\n",
    "                        html.Br(),\n",
    "            \n",
    "            html.B(html.Div(id = 'k_slider',\n",
    "                     children ='k (n1/n2)',\n",
    "                     style=dict( maxHeight='200px', fontSize='15px' ))),\n",
    "            dcc.Slider(\n",
    "                id='k',\n",
    "                min=0.1,\n",
    "                max=2,\n",
    "                step=0.1,\n",
    "                value=1),\n",
    "        ], className='three columns', style=dict(height='300px')),\n",
    "            \n",
    "\n",
    "\n",
    "        html.Div([\n",
    "            dcc.Graph(id='clickable-graph',\n",
    "                      style=dict(width='700px',height='550px'),\n",
    "                      hoverData=dict(points=[dict(pointNumber=0)] )),\n",
    "\n",
    "        ], className='nine columns', style=dict(textAlign='center')),\n",
    "    ], className='row' ),\n",
    "\n",
    " ], className='container')\n",
    "\n",
    "@app.callback(\n",
    "    Output('clickable-graph', 'figure'),\n",
    "    [Input('test_type', 'value'), \n",
    "     Input('tail_select', 'value'),\n",
    "     Input('significance', 'value'),\n",
    "     Input('power', 'value'),\n",
    "     Input('effect_size', 'value'),\n",
    "     Input('k', 'value')\n",
    "    ])\n",
    "def wrap_function_call(tt,tail,alpha,power,effect,k):\n",
    "    return wrap_calculations(tt,tail,alpha,power,effect,k)\n",
    "\n",
    "\n",
    "@app.callback(\n",
    "    Output('nme_slider', 'children'),\n",
    "    [Input('test_type', 'value')])\n",
    "def title_change(value):\n",
    "    return 'Effect Size (δ)' if value == 'mean' else 'Left slider is π1 and Right slider is π2'\n"
   ]
  },
  {
   "cell_type": "code",
   "execution_count": 5,
   "metadata": {},
   "outputs": [
    {
     "name": "stderr",
     "output_type": "stream",
     "text": [
      " * Running on http://127.0.0.1:8052/ (Press CTRL+C to quit)\n",
      "127.0.0.1 - - [03/Jun/2018 03:33:12] \"\u001b[37mGET / HTTP/1.1\u001b[0m\" 200 -\n",
      "127.0.0.1 - - [03/Jun/2018 03:33:12] \"\u001b[37mGET /_dash-layout HTTP/1.1\u001b[0m\" 200 -\n",
      "127.0.0.1 - - [03/Jun/2018 03:33:12] \"\u001b[37mGET /_dash-dependencies HTTP/1.1\u001b[0m\" 200 -\n",
      "127.0.0.1 - - [03/Jun/2018 03:33:12] \"\u001b[37mPOST /_dash-update-component HTTP/1.1\u001b[0m\" 200 -\n",
      "127.0.0.1 - - [03/Jun/2018 03:33:12] \"\u001b[37mPOST /_dash-update-component HTTP/1.1\u001b[0m\" 200 -\n",
      "127.0.0.1 - - [03/Jun/2018 03:33:13] \"\u001b[37mGET /favicon.ico HTTP/1.1\u001b[0m\" 200 -\n",
      "127.0.0.1 - - [03/Jun/2018 03:33:48] \"\u001b[37mPOST /_dash-update-component HTTP/1.1\u001b[0m\" 200 -\n",
      "127.0.0.1 - - [03/Jun/2018 03:33:54] \"\u001b[37mPOST /_dash-update-component HTTP/1.1\u001b[0m\" 200 -\n",
      "127.0.0.1 - - [03/Jun/2018 03:33:54] \"\u001b[37mPOST /_dash-update-component HTTP/1.1\u001b[0m\" 200 -\n",
      "127.0.0.1 - - [03/Jun/2018 03:34:00] \"\u001b[37mPOST /_dash-update-component HTTP/1.1\u001b[0m\" 200 -\n",
      "127.0.0.1 - - [03/Jun/2018 03:34:25] \"\u001b[37mPOST /_dash-update-component HTTP/1.1\u001b[0m\" 200 -\n",
      "127.0.0.1 - - [03/Jun/2018 03:34:28] \"\u001b[37mPOST /_dash-update-component HTTP/1.1\u001b[0m\" 200 -\n",
      "127.0.0.1 - - [03/Jun/2018 03:34:44] \"\u001b[37mPOST /_dash-update-component HTTP/1.1\u001b[0m\" 200 -\n"
     ]
    }
   ],
   "source": [
    "external_css = [\"https://cdnjs.cloudflare.com/ajax/libs/skeleton/2.0.4/skeleton.min.css\",\n",
    "                \"//fonts.googleapis.com/css?family=Raleway:400,300,600\",\n",
    "                \"//fonts.googleapis.com/css?family=Dosis:Medium\",\n",
    "                \"https://cdn.rawgit.com/plotly/dash-app-stylesheets/0e463810ed36927caf20372b6411690692f94819/dash-drug-discovery-demo-stylesheet.css\"]\n",
    "\n",
    "\n",
    "for css in external_css:\n",
    "    app.css.append_css({\"external_url\": css})\n",
    "\n",
    "\n",
    "if __name__ == '__main__':\n",
    "    app.run_server(port=8052)\n"
   ]
  },
  {
   "cell_type": "code",
   "execution_count": null,
   "metadata": {},
   "outputs": [],
   "source": []
  },
  {
   "cell_type": "code",
   "execution_count": null,
   "metadata": {},
   "outputs": [],
   "source": []
  }
 ],
 "metadata": {
  "kernelspec": {
   "display_name": "Python 3",
   "language": "python",
   "name": "python3"
  },
  "latex_envs": {
   "LaTeX_envs_menu_present": true,
   "autocomplete": true,
   "bibliofile": "biblio.bib",
   "cite_by": "apalike",
   "current_citInitial": 1,
   "eqLabelWithNumbers": true,
   "eqNumInitial": 1,
   "hotkeys": {
    "equation": "Ctrl-E",
    "itemize": "Ctrl-I"
   },
   "labels_anchors": false,
   "latex_user_defs": false,
   "report_style_numbering": false,
   "user_envs_cfg": false
  },
  "varInspector": {
   "cols": {
    "lenName": 16,
    "lenType": 16,
    "lenVar": 40
   },
   "kernels_config": {
    "python": {
     "delete_cmd_postfix": "",
     "delete_cmd_prefix": "del ",
     "library": "var_list.py",
     "varRefreshCmd": "print(var_dic_list())"
    },
    "r": {
     "delete_cmd_postfix": ") ",
     "delete_cmd_prefix": "rm(",
     "library": "var_list.r",
     "varRefreshCmd": "cat(var_dic_list()) "
    }
   },
   "types_to_exclude": [
    "module",
    "function",
    "builtin_function_or_method",
    "instance",
    "_Feature"
   ],
   "window_display": false
  }
 },
 "nbformat": 4,
 "nbformat_minor": 2
}
